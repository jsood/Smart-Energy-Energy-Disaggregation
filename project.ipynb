{
 "cells": [
  {
   "cell_type": "code",
   "execution_count": 2,
   "metadata": {},
   "outputs": [],
   "source": [
    "import pandas as pd\n",
    "import numpy as np\n",
    "import csv\n",
    "from datetime import datetime, timedelta\n",
    "from sklearn.datasets import make_regression\n",
    "from sklearn import linear_model\n",
    "from sklearn.neighbors import KNeighborsRegressor\n",
    "from sklearn.datasets import make_regression\n",
    "from sklearn.ensemble import RandomForestRegressor\n",
    "from sklearn.ensemble import AdaBoostRegressor\n",
    "from sklearn.metrics import mean_absolute_error, r2_score\n",
    "import matplotlib.pyplot as plt\n",
    "import statsmodels.api as sm\n",
    "import matplotlib\n",
    "import itertools\n",
    "from pylab import rcParams\n",
    "import pickle\n",
    "import warnings\n",
    "warnings.filterwarnings(\"ignore\")"
   ]
  },
  {
   "cell_type": "code",
   "execution_count": 18,
   "metadata": {},
   "outputs": [
    {
     "data": {
      "text/plain": [
       "'bathroom_gfi_7'"
      ]
     },
     "execution_count": 18,
     "metadata": {},
     "output_type": "execute_result"
    }
   ],
   "source": [
    "mapping = {}\n",
    "for i in range(1,7):=\n",
    "    file_path = 'low_freq/house_' + str(i) + '/labels.dat'\n",
    "    mapping[i] = {}\n",
    "    with open(file_path) as file:\n",
    "        for line in file:\n",
    "            mapping[i][int(line.split(' ')[0].strip())] = line.split(' ')[1].strip() + '_' + line.split(' ')[0].strip()\n",
    "            "
   ]
  },
  {
   "cell_type": "code",
   "execution_count": 99,
   "metadata": {},
   "outputs": [],
   "source": [
    "df = {}\n",
    "for i in range(1,7):\n",
    "    file_path = 'low_freq/house_' + str(i) + '/channel_' + str(i) + '.dat'\n",
    "    df[i] = pd.read_csv(file_path , sep = ' ', names = ['TimeStamp', mapping[i][1]], dtype = {'TimeStamp': 'int64', mapping[i][1]:'float64'})\n",
    "    for j in range(2, len(mapping[i])+1):\n",
    "        curr_file_path =  'low_freq/house_' + str(i) + '/channel_' + str(j) + '.dat'\n",
    "        curr = pd.read_csv(curr_file_path , sep = ' ', names = ['TimeStamp', mapping[i][j]], dtype = {'TimeStamp': 'int64', mapping[i][j]:'float64'})\n",
    "        df[i] = pd.merge(df[i], curr, how='inner', on='TimeStamp')\n",
    "    df[i]['TimeStamp'] = df[i]['TimeStamp'].astype(\"datetime64[s]\")\n",
    "        "
   ]
  },
  {
   "cell_type": "code",
   "execution_count": null,
   "metadata": {},
   "outputs": [],
   "source": [
    "for i in range(1,7):\n",
    "    for j, row in df[i].iterrows():\n",
    "        df[i].at[j,'Year'] = row[0].year\n",
    "        df[i].at[j,'Month'] = row[0].month\n",
    "        df[i].at[j,'Day'] = row[0].day\n",
    "        df[i].at[j,'Hour'] = row[0].hour\n",
    "        df[i].at[j,'Minute'] = row[0].minute\n",
    "        df[i].at[j,'Seconds'] = row[0].second\n",
    "        if row[0].weekday() in [5,6] :\n",
    "            df[i].at[j, 'Holiday'] = 1\n",
    "        else:\n",
    "            df[i].at[j, 'Holiday'] = 0\n",
    "        if row[0].hour in [0,1,2,3,4,5,6,7,20,21,22,23]:\n",
    "            df[i].at[j, 'Peak Hour'] = 1\n",
    "        else:\n",
    "            df[i].at[j, 'Peak Hour'] = 0\n",
    "        \n"
   ]
  },
  {
   "cell_type": "code",
   "execution_count": null,
   "metadata": {},
   "outputs": [],
   "source": [
    "display(df[1])"
   ]
  }
 ],
 "metadata": {
  "kernelspec": {
   "display_name": "Python 2",
   "language": "python",
   "name": "python2"
  },
  "language_info": {
   "codemirror_mode": {
    "name": "ipython",
    "version": 2
   },
   "file_extension": ".py",
   "mimetype": "text/x-python",
   "name": "python",
   "nbconvert_exporter": "python",
   "pygments_lexer": "ipython2",
   "version": "2.7.8"
  }
 },
 "nbformat": 4,
 "nbformat_minor": 2
}
